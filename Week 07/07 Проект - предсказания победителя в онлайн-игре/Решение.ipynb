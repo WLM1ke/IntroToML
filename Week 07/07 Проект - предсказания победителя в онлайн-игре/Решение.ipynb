{
 "cells": [
  {
   "cell_type": "markdown",
   "metadata": {},
   "source": [
    "## Руководство по решению\n",
    "\n",
    "Вам необходимо провести описанные ниже два этапа исследования, написать по результатам каждого этапа небольшой отчет (ниже указаны вопросы, ответы на которые должны содержаться в отчете), и предоставить для ревью данный отчет и код, с помощью которого вы выполнили задание.\n",
    "\n",
    "**Обратите внимание:** высокое качество работы на кросс-валидации (близкое к 100%) — это в первую очередь повод задуматься о том, правильно ли вы обучаете модель. Возможно, вы заглядываете в будущее или настраиваетесь на неправильном наборе признаков."
   ]
  },
  {
   "cell_type": "markdown",
   "metadata": {},
   "source": [
    "### Подход 1: градиентный бустинг \"в лоб\"\n",
    "Один из самых универсальных алгоритмов, изученных в нашем курсе, является градиентный бустинг. Он не очень требователен к данным, восстанавливает нелинейные зависимости, и хорошо работает на многих наборах данных, что и обуславливает его популярность. Вполне разумной мыслью будет попробовать именно его в первую очередь.\n",
    "\n",
    "1) Считайте таблицу с признаками из файла features.csv с помощью кода, приведенного выше. Удалите признаки, связанные с итогами матча (они помечены в описании данных как отсутствующие в тестовой выборке)."
   ]
  },
  {
   "cell_type": "code",
   "execution_count": 1,
   "metadata": {},
   "outputs": [],
   "source": [
    "import pandas as pd\n",
    "\n",
    "\n",
    "data = pd.read_csv('features.zip', index_col='match_id')"
   ]
  },
  {
   "cell_type": "code",
   "execution_count": 2,
   "metadata": {},
   "outputs": [
    {
     "name": "stdout",
     "output_type": "stream",
     "text": [
      "<class 'pandas.core.frame.DataFrame'>\n",
      "Int64Index: 97230 entries, 0 to 114406\n",
      "Columns: 108 entries, start_time to barracks_status_dire\n",
      "dtypes: float64(12), int64(96)\n",
      "memory usage: 80.9 MB\n"
     ]
    }
   ],
   "source": [
    "data.info()"
   ]
  },
  {
   "cell_type": "code",
   "execution_count": 3,
   "metadata": {},
   "outputs": [
    {
     "data": {
      "text/html": [
       "<div>\n",
       "<style scoped>\n",
       "    .dataframe tbody tr th:only-of-type {\n",
       "        vertical-align: middle;\n",
       "    }\n",
       "\n",
       "    .dataframe tbody tr th {\n",
       "        vertical-align: top;\n",
       "    }\n",
       "\n",
       "    .dataframe thead th {\n",
       "        text-align: right;\n",
       "    }\n",
       "</style>\n",
       "<table border=\"1\" class=\"dataframe\">\n",
       "  <thead>\n",
       "    <tr style=\"text-align: right;\">\n",
       "      <th></th>\n",
       "      <th>start_time</th>\n",
       "      <th>lobby_type</th>\n",
       "      <th>r1_hero</th>\n",
       "      <th>r1_level</th>\n",
       "      <th>r1_xp</th>\n",
       "      <th>r1_gold</th>\n",
       "      <th>r1_lh</th>\n",
       "      <th>r1_kills</th>\n",
       "      <th>r1_deaths</th>\n",
       "      <th>r1_items</th>\n",
       "      <th>...</th>\n",
       "      <th>dire_boots_count</th>\n",
       "      <th>dire_ward_observer_count</th>\n",
       "      <th>dire_ward_sentry_count</th>\n",
       "      <th>dire_first_ward_time</th>\n",
       "      <th>duration</th>\n",
       "      <th>radiant_win</th>\n",
       "      <th>tower_status_radiant</th>\n",
       "      <th>tower_status_dire</th>\n",
       "      <th>barracks_status_radiant</th>\n",
       "      <th>barracks_status_dire</th>\n",
       "    </tr>\n",
       "    <tr>\n",
       "      <th>match_id</th>\n",
       "      <th></th>\n",
       "      <th></th>\n",
       "      <th></th>\n",
       "      <th></th>\n",
       "      <th></th>\n",
       "      <th></th>\n",
       "      <th></th>\n",
       "      <th></th>\n",
       "      <th></th>\n",
       "      <th></th>\n",
       "      <th></th>\n",
       "      <th></th>\n",
       "      <th></th>\n",
       "      <th></th>\n",
       "      <th></th>\n",
       "      <th></th>\n",
       "      <th></th>\n",
       "      <th></th>\n",
       "      <th></th>\n",
       "      <th></th>\n",
       "      <th></th>\n",
       "    </tr>\n",
       "  </thead>\n",
       "  <tbody>\n",
       "    <tr>\n",
       "      <th>0</th>\n",
       "      <td>1430198770</td>\n",
       "      <td>7</td>\n",
       "      <td>11</td>\n",
       "      <td>5</td>\n",
       "      <td>2098</td>\n",
       "      <td>1489</td>\n",
       "      <td>20</td>\n",
       "      <td>0</td>\n",
       "      <td>0</td>\n",
       "      <td>7</td>\n",
       "      <td>...</td>\n",
       "      <td>4</td>\n",
       "      <td>2</td>\n",
       "      <td>2</td>\n",
       "      <td>-52.0</td>\n",
       "      <td>2874</td>\n",
       "      <td>1</td>\n",
       "      <td>1796</td>\n",
       "      <td>0</td>\n",
       "      <td>51</td>\n",
       "      <td>0</td>\n",
       "    </tr>\n",
       "    <tr>\n",
       "      <th>1</th>\n",
       "      <td>1430220345</td>\n",
       "      <td>0</td>\n",
       "      <td>42</td>\n",
       "      <td>4</td>\n",
       "      <td>1188</td>\n",
       "      <td>1033</td>\n",
       "      <td>9</td>\n",
       "      <td>0</td>\n",
       "      <td>1</td>\n",
       "      <td>12</td>\n",
       "      <td>...</td>\n",
       "      <td>4</td>\n",
       "      <td>3</td>\n",
       "      <td>1</td>\n",
       "      <td>-5.0</td>\n",
       "      <td>2463</td>\n",
       "      <td>1</td>\n",
       "      <td>1974</td>\n",
       "      <td>0</td>\n",
       "      <td>63</td>\n",
       "      <td>1</td>\n",
       "    </tr>\n",
       "    <tr>\n",
       "      <th>2</th>\n",
       "      <td>1430227081</td>\n",
       "      <td>7</td>\n",
       "      <td>33</td>\n",
       "      <td>4</td>\n",
       "      <td>1319</td>\n",
       "      <td>1270</td>\n",
       "      <td>22</td>\n",
       "      <td>0</td>\n",
       "      <td>0</td>\n",
       "      <td>12</td>\n",
       "      <td>...</td>\n",
       "      <td>4</td>\n",
       "      <td>3</td>\n",
       "      <td>1</td>\n",
       "      <td>13.0</td>\n",
       "      <td>2130</td>\n",
       "      <td>0</td>\n",
       "      <td>0</td>\n",
       "      <td>1830</td>\n",
       "      <td>0</td>\n",
       "      <td>63</td>\n",
       "    </tr>\n",
       "    <tr>\n",
       "      <th>3</th>\n",
       "      <td>1430263531</td>\n",
       "      <td>1</td>\n",
       "      <td>29</td>\n",
       "      <td>4</td>\n",
       "      <td>1779</td>\n",
       "      <td>1056</td>\n",
       "      <td>14</td>\n",
       "      <td>0</td>\n",
       "      <td>0</td>\n",
       "      <td>5</td>\n",
       "      <td>...</td>\n",
       "      <td>4</td>\n",
       "      <td>2</td>\n",
       "      <td>0</td>\n",
       "      <td>27.0</td>\n",
       "      <td>1459</td>\n",
       "      <td>0</td>\n",
       "      <td>1920</td>\n",
       "      <td>2047</td>\n",
       "      <td>50</td>\n",
       "      <td>63</td>\n",
       "    </tr>\n",
       "    <tr>\n",
       "      <th>4</th>\n",
       "      <td>1430282290</td>\n",
       "      <td>7</td>\n",
       "      <td>13</td>\n",
       "      <td>4</td>\n",
       "      <td>1431</td>\n",
       "      <td>1090</td>\n",
       "      <td>8</td>\n",
       "      <td>1</td>\n",
       "      <td>0</td>\n",
       "      <td>8</td>\n",
       "      <td>...</td>\n",
       "      <td>3</td>\n",
       "      <td>3</td>\n",
       "      <td>0</td>\n",
       "      <td>-16.0</td>\n",
       "      <td>2449</td>\n",
       "      <td>0</td>\n",
       "      <td>4</td>\n",
       "      <td>1974</td>\n",
       "      <td>3</td>\n",
       "      <td>63</td>\n",
       "    </tr>\n",
       "  </tbody>\n",
       "</table>\n",
       "<p>5 rows × 108 columns</p>\n",
       "</div>"
      ],
      "text/plain": [
       "          start_time  lobby_type  r1_hero  r1_level  r1_xp  r1_gold  r1_lh  \\\n",
       "match_id                                                                     \n",
       "0         1430198770           7       11         5   2098     1489     20   \n",
       "1         1430220345           0       42         4   1188     1033      9   \n",
       "2         1430227081           7       33         4   1319     1270     22   \n",
       "3         1430263531           1       29         4   1779     1056     14   \n",
       "4         1430282290           7       13         4   1431     1090      8   \n",
       "\n",
       "          r1_kills  r1_deaths  r1_items          ...           \\\n",
       "match_id                                         ...            \n",
       "0                0          0         7          ...            \n",
       "1                0          1        12          ...            \n",
       "2                0          0        12          ...            \n",
       "3                0          0         5          ...            \n",
       "4                1          0         8          ...            \n",
       "\n",
       "          dire_boots_count  dire_ward_observer_count  dire_ward_sentry_count  \\\n",
       "match_id                                                                       \n",
       "0                        4                         2                       2   \n",
       "1                        4                         3                       1   \n",
       "2                        4                         3                       1   \n",
       "3                        4                         2                       0   \n",
       "4                        3                         3                       0   \n",
       "\n",
       "          dire_first_ward_time  duration  radiant_win  tower_status_radiant  \\\n",
       "match_id                                                                      \n",
       "0                        -52.0      2874            1                  1796   \n",
       "1                         -5.0      2463            1                  1974   \n",
       "2                         13.0      2130            0                     0   \n",
       "3                         27.0      1459            0                  1920   \n",
       "4                        -16.0      2449            0                     4   \n",
       "\n",
       "          tower_status_dire  barracks_status_radiant  barracks_status_dire  \n",
       "match_id                                                                    \n",
       "0                         0                       51                     0  \n",
       "1                         0                       63                     1  \n",
       "2                      1830                        0                    63  \n",
       "3                      2047                       50                    63  \n",
       "4                      1974                        3                    63  \n",
       "\n",
       "[5 rows x 108 columns]"
      ]
     },
     "execution_count": 3,
     "metadata": {},
     "output_type": "execute_result"
    }
   ],
   "source": [
    "data.head()"
   ]
  },
  {
   "cell_type": "code",
   "execution_count": 4,
   "metadata": {},
   "outputs": [],
   "source": [
    "Y = data['radiant_win']"
   ]
  },
  {
   "cell_type": "code",
   "execution_count": 5,
   "metadata": {},
   "outputs": [],
   "source": [
    "X = data[data.columns[0:-6]]"
   ]
  },
  {
   "cell_type": "markdown",
   "metadata": {},
   "source": [
    "2) Проверьте выборку на наличие пропусков с помощью функции count(), которая для каждого столбца показывает число заполненных значений. Много ли пропусков в данных? Запишите названия признаков, имеющих пропуски, и попробуйте для любых двух из них дать обоснование, почему их значения могут быть пропущены."
   ]
  },
  {
   "cell_type": "code",
   "execution_count": 6,
   "metadata": {},
   "outputs": [
    {
     "data": {
      "text/plain": [
       "first_blood_time               19553\n",
       "first_blood_team               19553\n",
       "first_blood_player1            19553\n",
       "first_blood_player2            43987\n",
       "radiant_bottle_time            15691\n",
       "radiant_courier_time             692\n",
       "radiant_flying_courier_time    27479\n",
       "radiant_first_ward_time         1836\n",
       "dire_bottle_time               16143\n",
       "dire_courier_time                676\n",
       "dire_flying_courier_time       26098\n",
       "dire_first_ward_time            1826\n",
       "dtype: int64"
      ]
     },
     "execution_count": 6,
     "metadata": {},
     "output_type": "execute_result"
    }
   ],
   "source": [
    "misses = (Y.count() - X.count())[Y.count() != X.count()]\n",
    "misses"
   ]
  },
  {
   "cell_type": "code",
   "execution_count": 7,
   "metadata": {},
   "outputs": [
    {
     "name": "stdout",
     "output_type": "stream",
     "text": [
      "first_blood_time\n",
      "first_blood_team\n",
      "first_blood_player1\n",
      "first_blood_player2\n",
      "radiant_bottle_time\n",
      "radiant_courier_time\n",
      "radiant_flying_courier_time\n",
      "radiant_first_ward_time\n",
      "dire_bottle_time\n",
      "dire_courier_time\n",
      "dire_flying_courier_time\n",
      "dire_first_ward_time\n"
     ]
    }
   ],
   "source": [
    "print('\\n'.join(misses.index))"
   ]
  },
  {
   "cell_type": "markdown",
   "metadata": {},
   "source": [
    "3) Замените пропуски на нули с помощью функции fillna(). На самом деле этот способ является предпочтительным для логистической регрессии, поскольку он позволит пропущенному значению не вносить никакого вклада в предсказание. Для деревьев часто лучшим вариантом оказывается замена пропуска на очень большое или очень маленькое значение — в этом случае при построении разбиения вершины можно будет отправить объекты с пропусками в отдельную ветвь дерева. Также есть и другие подходы — например, замена пропуска на среднее значение признака. Мы не требуем этого в задании, но при желании попробуйте разные подходы к обработке пропусков и сравните их между собой."
   ]
  },
  {
   "cell_type": "code",
   "execution_count": 8,
   "metadata": {},
   "outputs": [
    {
     "name": "stderr",
     "output_type": "stream",
     "text": [
      "/Users/WLMike/anaconda3/envs/ML36/lib/python3.6/site-packages/pandas/core/frame.py:3035: SettingWithCopyWarning: \n",
      "A value is trying to be set on a copy of a slice from a DataFrame\n",
      "\n",
      "See the caveats in the documentation: http://pandas.pydata.org/pandas-docs/stable/indexing.html#indexing-view-versus-copy\n",
      "  downcast=downcast, **kwargs)\n"
     ]
    }
   ],
   "source": [
    "X.fillna(value=0, inplace=True)"
   ]
  },
  {
   "cell_type": "markdown",
   "metadata": {},
   "source": [
    "4) Какой столбец содержит целевую переменную? Запишите его название."
   ]
  },
  {
   "cell_type": "code",
   "execution_count": 9,
   "metadata": {},
   "outputs": [
    {
     "name": "stdout",
     "output_type": "stream",
     "text": [
      "radiant_win\n"
     ]
    }
   ],
   "source": [
    "print(Y.name)"
   ]
  },
  {
   "cell_type": "markdown",
   "metadata": {},
   "source": [
    "5) Забудем, что в выборке есть категориальные признаки, и попробуем обучить градиентный бустинг над деревьями на имеющейся матрице \"объекты-признаки\". Зафиксируйте генератор разбиений для кросс-валидации по 5 блокам (KFold), не забудьте перемешать при этом выборку (shuffle=True), поскольку данные в таблице отсортированы по времени, и без перемешивания можно столкнуться с нежелательными эффектами при оценивании качества. Оцените качество градиентного бустинга (GradientBoostingClassifier) с помощью данной кросс-валидации, попробуйте при этом разное количество деревьев (как минимум протестируйте следующие значения для количества деревьев: 10, 20, 30). Долго ли настраивались классификаторы? Достигнут ли оптимум на испытанных значениях параметра n_estimators, или же качество, скорее всего, продолжит расти при дальнейшем его увеличении?"
   ]
  },
  {
   "cell_type": "code",
   "execution_count": 10,
   "metadata": {},
   "outputs": [
    {
     "name": "stdout",
     "output_type": "stream",
     "text": [
      "n_estimators = 10\n",
      "Time elapsed = 0:00:21.115890\n",
      "roc_auc = 0.665003066636268\n",
      "\n",
      "\n",
      "n_estimators = 20\n",
      "Time elapsed = 0:00:36.221471\n",
      "roc_auc = 0.6818253362730063\n",
      "\n",
      "\n",
      "n_estimators = 30\n",
      "Time elapsed = 0:00:52.382717\n",
      "roc_auc = 0.6897405323226767\n",
      "\n",
      "\n",
      "n_estimators = 100\n",
      "Time elapsed = 0:02:54.505076\n",
      "roc_auc = 0.706417916525103\n",
      "\n",
      "\n"
     ]
    }
   ],
   "source": [
    "from sklearn import model_selection\n",
    "from sklearn import ensemble\n",
    "import numpy as np\n",
    "import datetime\n",
    "\n",
    "\n",
    "for n_estimators in [10, 20, 30, 100]:\n",
    "    clf = ensemble.GradientBoostingClassifier(n_estimators=n_estimators, random_state=31415)\n",
    "    cv = model_selection.KFold(n_splits=5, shuffle=True, random_state=31415)\n",
    "    start_time = datetime.datetime.now()\n",
    "    result = model_selection.cross_validate(\n",
    "        clf, X, Y,\n",
    "        cv=cv,\n",
    "        scoring='roc_auc')\n",
    "    print('n_estimators =', str(n_estimators))\n",
    "    print('Time elapsed =', str(datetime.datetime.now() - start_time))\n",
    "    print('roc_auc =', str(np.mean(result['test_score'])))      \n",
    "    print('\\n')"
   ]
  },
  {
   "cell_type": "code",
   "execution_count": 11,
   "metadata": {},
   "outputs": [
    {
     "data": {
      "text/plain": [
       "GradientBoostingClassifier(criterion='friedman_mse', init=None,\n",
       "              learning_rate=0.1, loss='deviance', max_depth=3,\n",
       "              max_features=None, max_leaf_nodes=None,\n",
       "              min_impurity_decrease=0.0, min_impurity_split=None,\n",
       "              min_samples_leaf=1, min_samples_split=2,\n",
       "              min_weight_fraction_leaf=0.0, n_estimators=30,\n",
       "              presort='auto', random_state=31415, subsample=1.0, verbose=0,\n",
       "              warm_start=False)"
      ]
     },
     "execution_count": 11,
     "metadata": {},
     "output_type": "execute_result"
    }
   ],
   "source": [
    "clf.set_params(n_estimators=30)"
   ]
  },
  {
   "cell_type": "code",
   "execution_count": 12,
   "metadata": {},
   "outputs": [
    {
     "data": {
      "text/plain": [
       "GradientBoostingClassifier(criterion='friedman_mse', init=None,\n",
       "              learning_rate=0.1, loss='deviance', max_depth=3,\n",
       "              max_features=None, max_leaf_nodes=None,\n",
       "              min_impurity_decrease=0.0, min_impurity_split=None,\n",
       "              min_samples_leaf=1, min_samples_split=2,\n",
       "              min_weight_fraction_leaf=0.0, n_estimators=30,\n",
       "              presort='auto', random_state=31415, subsample=1.0, verbose=0,\n",
       "              warm_start=False)"
      ]
     },
     "execution_count": 12,
     "metadata": {},
     "output_type": "execute_result"
    }
   ],
   "source": [
    "clf.fit(X, Y)"
   ]
  },
  {
   "cell_type": "code",
   "execution_count": 13,
   "metadata": {},
   "outputs": [
    {
     "data": {
      "text/plain": [
       "0.21568627450980393"
      ]
     },
     "execution_count": 13,
     "metadata": {},
     "output_type": "execute_result"
    }
   ],
   "source": [
    "(clf.feature_importances_ != 0).sum() / X.columns.shape[0]"
   ]
  },
  {
   "cell_type": "markdown",
   "metadata": {},
   "source": [
    "\n",
    "##### Что указать в отчете\n",
    "В отчете по данному этапу вы должны ответить на следующие вопросы:\n",
    "\n",
    "1) Какие признаки имеют пропуски среди своих значений? Что могут означать пропуски в этих признаках (ответьте на этот вопрос для двух любых признаков)?"
   ]
  },
  {
   "cell_type": "markdown",
   "metadata": {},
   "source": [
    "first_blood_time\n",
    "\n",
    "first_blood_team\n",
    "\n",
    "first_blood_player1\n",
    "\n",
    "first_blood_player2 - первая кровь не произошло за 5 минут матча или второй игрок не был задействован в этом событии\n",
    "\n",
    "radiant_bottle_time\n",
    "\n",
    "radiant_courier_time - событие не произошло за 5 минут матча\n",
    "\n",
    "radiant_flying_courier_time\n",
    "\n",
    "radiant_first_ward_time\n",
    "\n",
    "dire_bottle_time\n",
    "\n",
    "dire_courier_time\n",
    "\n",
    "dire_flying_courier_time\n",
    "\n",
    "dire_first_ward_time\n"
   ]
  },
  {
   "cell_type": "markdown",
   "metadata": {},
   "source": [
    "2) Как называется столбец, содержащий целевую переменную?"
   ]
  },
  {
   "cell_type": "markdown",
   "metadata": {},
   "source": [
    "radiant_win"
   ]
  },
  {
   "cell_type": "markdown",
   "metadata": {},
   "source": [
    "3) Как долго проводилась кросс-валидация для градиентного бустинга с 30 деревьями? Инструкцию по измерению времени можно найти ниже по тексту. Какое качество при этом получилось? Напомним, что в данном задании мы используем метрику качества AUC-ROC."
   ]
  },
  {
   "cell_type": "markdown",
   "metadata": {},
   "source": [
    "Время кросс-валидации для 30 деревьев около 52c\n",
    "\n",
    "AUC-ROC = 0.68974"
   ]
  },
  {
   "cell_type": "markdown",
   "metadata": {},
   "source": [
    "4) Имеет ли смысл использовать больше 30 деревьев в градиентном бустинге? Что бы вы предложили делать, чтобы ускорить его обучение при увеличении количества деревьев?"
   ]
  },
  {
   "cell_type": "markdown",
   "metadata": {},
   "source": [
    "Так как AUC-ROC продолжант увеличиваться для 10, 20 и 30 деревьев следует использовать больше деревьев. Увеличение числа деревьев до 100 показывает, что рост качества продолжается. \n",
    "\n",
    "Для ускорения обучения при большем числе деревьев можно использовать параметры subsample и max_features, что ускорит обучение отдельных деревьев. Кроме того, для построения 30 деревьев используется только 22% признаков - для ускорения вычислений можно исключить признаки с низкой важностью."
   ]
  },
  {
   "cell_type": "markdown",
   "metadata": {},
   "source": [
    "### Подход 2: логистическая регрессия\n",
    "\n",
    "Линейные методы работают гораздо быстрее композиций деревьев, поэтому кажется разумным воспользоваться именно ими для ускорения анализа данных. Одним из наиболее распространенных методов для классификации является логистическая регрессия.\n",
    "\n",
    "**Важно:** не забывайте, что линейные алгоритмы чувствительны к масштабу признаков! Может пригодиться sklearn.preprocessing.StandartScaler."
   ]
  },
  {
   "cell_type": "code",
   "execution_count": 14,
   "metadata": {},
   "outputs": [
    {
     "name": "stderr",
     "output_type": "stream",
     "text": [
      "/Users/WLMike/anaconda3/envs/ML36/lib/python3.6/site-packages/sklearn/preprocessing/data.py:164: UserWarning: Numerical issues were encountered when centering the data and might not be solved. Dataset may contain too large values. You may need to prescale your features.\n",
      "  warnings.warn(\"Numerical issues were encountered \"\n"
     ]
    }
   ],
   "source": [
    "from sklearn import preprocessing\n",
    "\n",
    "X_norm = preprocessing.scale(X)"
   ]
  },
  {
   "cell_type": "markdown",
   "metadata": {},
   "source": [
    "1) Оцените качество логистической регрессии (sklearn.linear_model.LogisticRegression с L2-регуляризацией) с помощью кросс-валидации по той же схеме, которая использовалась для градиентного бустинга. Подберите при этом лучший параметр регуляризации (C). Какое наилучшее качество у вас получилось? Как оно соотносится с качеством градиентного бустинга? Чем вы можете объяснить эту разницу? Быстрее ли работает логистическая регрессия по сравнению с градиентным бустингом?"
   ]
  },
  {
   "cell_type": "code",
   "execution_count": 15,
   "metadata": {},
   "outputs": [
    {
     "name": "stdout",
     "output_type": "stream",
     "text": [
      "C = 0.001\n",
      "Time elapsed = 0:00:07.372203\n",
      "roc_auc = 0.7162908542056704\n",
      "\n",
      "\n",
      "C = 0.0021544346900318843\n",
      "Time elapsed = 0:00:08.403757\n",
      "roc_auc = 0.7164721956469058\n",
      "\n",
      "\n",
      "C = 0.004641588833612777\n",
      "Time elapsed = 0:00:09.024873\n",
      "roc_auc = 0.7165186513089421\n",
      "\n",
      "\n",
      "C = 0.01\n",
      "Time elapsed = 0:00:09.594000\n",
      "roc_auc = 0.7165178837582659\n",
      "\n",
      "\n",
      "C = 0.021544346900318832\n",
      "Time elapsed = 0:00:09.198617\n",
      "roc_auc = 0.7165114362951417\n",
      "\n",
      "\n",
      "C = 0.046415888336127795\n",
      "Time elapsed = 0:00:09.447098\n",
      "roc_auc = 0.7165076433646139\n",
      "\n",
      "\n",
      "C = 0.1\n",
      "Time elapsed = 0:00:10.264804\n",
      "roc_auc = 0.7165039973683055\n",
      "\n",
      "\n"
     ]
    }
   ],
   "source": [
    "from sklearn import linear_model\n",
    "import datetime\n",
    "\n",
    "\n",
    "for C in [10 ** (i/3) for i in range(-9, -2)]:\n",
    "    clf = linear_model.LogisticRegression(C=C, random_state=31415)\n",
    "    cv = model_selection.KFold(n_splits=5, shuffle=True, random_state=31415)\n",
    "    start_time = datetime.datetime.now()\n",
    "    result = model_selection.cross_validate(\n",
    "        clf, X_norm, Y,\n",
    "        cv=cv,\n",
    "        scoring='roc_auc')\n",
    "    print('C = ' + str(C))\n",
    "    print('Time elapsed =', str(datetime.datetime.now() - start_time))\n",
    "    print('roc_auc = ' + str(np.mean(result['test_score'])))      \n",
    "    print('\\n')"
   ]
  },
  {
   "cell_type": "markdown",
   "metadata": {},
   "source": [
    "2) Среди признаков в выборке есть категориальные, которые мы использовали как числовые, что вряд ли является хорошей идеей. Категориальных признаков в этой задаче одиннадцать: lobby_type и r1_hero, r2_hero, ..., r5_hero, d1_hero, d2_hero, ..., d5_hero. Уберите их из выборки, и проведите кросс-валидацию для логистической регрессии на новой выборке с подбором лучшего параметра регуляризации. Изменилось ли качество? Чем вы можете это объяснить?"
   ]
  },
  {
   "cell_type": "code",
   "execution_count": 16,
   "metadata": {},
   "outputs": [
    {
     "name": "stderr",
     "output_type": "stream",
     "text": [
      "/Users/WLMike/anaconda3/envs/ML36/lib/python3.6/site-packages/sklearn/preprocessing/data.py:164: UserWarning: Numerical issues were encountered when centering the data and might not be solved. Dataset may contain too large values. You may need to prescale your features.\n",
      "  warnings.warn(\"Numerical issues were encountered \"\n"
     ]
    },
    {
     "name": "stdout",
     "output_type": "stream",
     "text": [
      "C = 0.001\n",
      "Time elapsed = 0:00:06.161143\n",
      "roc_auc = 0.7163053452339199\n",
      "\n",
      "\n",
      "C = 0.0021544346900318843\n",
      "Time elapsed = 0:00:06.428104\n",
      "roc_auc = 0.7164957176054803\n",
      "\n",
      "\n",
      "C = 0.004641588833612777\n",
      "Time elapsed = 0:00:07.585397\n",
      "roc_auc = 0.7165333848230766\n",
      "\n",
      "\n",
      "C = 0.01\n",
      "Time elapsed = 0:00:07.905369\n",
      "roc_auc = 0.7165347300860666\n",
      "\n",
      "\n",
      "C = 0.021544346900318832\n",
      "Time elapsed = 0:00:08.459842\n",
      "roc_auc = 0.7165251371667134\n",
      "\n",
      "\n",
      "C = 0.046415888336127795\n",
      "Time elapsed = 0:00:08.550617\n",
      "roc_auc = 0.716519921093752\n",
      "\n",
      "\n",
      "C = 0.1\n",
      "Time elapsed = 0:00:08.775752\n",
      "roc_auc = 0.7165164587182187\n",
      "\n",
      "\n"
     ]
    }
   ],
   "source": [
    "cat_col = ['lobby_type',\n",
    "           'r1_hero', 'r2_hero', 'r3_hero', 'r4_hero', 'r5_hero',\n",
    "           'd1_hero', 'd2_hero', 'd3_hero', 'd4_hero', 'd5_hero']\n",
    "\n",
    "X_norm = preprocessing.scale(X[[col for col in X.columns if col not in cat_col]])\n",
    "\n",
    "for C in [10 ** (i/3) for i in range(-9, -2)]:\n",
    "    clf = linear_model.LogisticRegression(C=C, random_state=31415)\n",
    "    cv = model_selection.KFold(n_splits=5, shuffle=True, random_state=31415)\n",
    "    start_time = datetime.datetime.now()\n",
    "    result = model_selection.cross_validate(\n",
    "        clf, X_norm, Y,\n",
    "        cv=cv,\n",
    "        scoring='roc_auc')\n",
    "    print('C = ' + str(C))\n",
    "    print('Time elapsed =', str(datetime.datetime.now() - start_time))\n",
    "    print('roc_auc = ' + str(np.mean(result['test_score'])))      \n",
    "    print('\\n')"
   ]
  },
  {
   "cell_type": "markdown",
   "metadata": {},
   "source": [
    "3) На предыдущем шаге мы исключили из выборки признаки rM_hero и dM_hero, которые показывают, какие именно герои играли за каждую команду. Это важные признаки — герои имеют разные характеристики, и некоторые из них выигрывают чаще, чем другие. Выясните из данных, сколько различных идентификаторов героев существует в данной игре (вам может пригодиться фукнция unique или value_counts)."
   ]
  },
  {
   "cell_type": "code",
   "execution_count": 17,
   "metadata": {},
   "outputs": [
    {
     "name": "stdout",
     "output_type": "stream",
     "text": [
      "r1_hero 108\n",
      "r2_hero 108\n",
      "r3_hero 108\n",
      "r4_hero 108\n",
      "r5_hero 108\n",
      "d1_hero 108\n",
      "d2_hero 108\n",
      "d3_hero 108\n",
      "d4_hero 108\n",
      "d5_hero 108\n",
      "all 108\n"
     ]
    }
   ],
   "source": [
    "all = set()\n",
    "\n",
    "for col in cat_col[1:]:\n",
    "    unique = X[col].unique()\n",
    "    print(col, unique.shape[0])\n",
    "    all = all | set(unique)\n",
    "\n",
    "print('all', len(all))"
   ]
  },
  {
   "cell_type": "markdown",
   "metadata": {},
   "source": [
    "4) Воспользуемся подходом \"мешок слов\" для кодирования информации о героях. Пусть всего в игре имеет N различных героев. Сформируем N признаков, при этом i-й будет равен нулю, если i-й герой не участвовал в матче; единице, если i-й герой играл за команду Radiant; минус единице, если i-й герой играл за команду Dire. Ниже вы можете найти код, который выполняет данной преобразование. Добавьте полученные признаки к числовым, которые вы использовали во втором пункте данного этапа."
   ]
  },
  {
   "cell_type": "code",
   "execution_count": 18,
   "metadata": {},
   "outputs": [],
   "source": [
    "cat_col = ['lobby_type',\n",
    "           'r1_hero', 'r2_hero', 'r3_hero', 'r4_hero', 'r5_hero',\n",
    "           'd1_hero', 'd2_hero', 'd3_hero', 'd4_hero', 'd5_hero']\n",
    "\n",
    "scaler = preprocessing.StandardScaler()\n",
    "X_norm = scaler.fit_transform(X[[col for col in X.columns if col not in cat_col]])\n",
    "\n",
    "X_pick = np.zeros((data.shape[0], len(all)))\n",
    "heroes = list(all)\n",
    "\n",
    "for i, match_id in enumerate(data.index):\n",
    "    for p in range(5):\n",
    "        X_pick[i, heroes.index(data.loc[match_id, 'r%d_hero' % (p+1)])] = 1\n",
    "        X_pick[i, heroes.index(data.loc[match_id, 'd%d_hero' % (p+1)])] = -1"
   ]
  },
  {
   "cell_type": "code",
   "execution_count": 19,
   "metadata": {},
   "outputs": [],
   "source": [
    "X_norn_pick = np.hstack((X_norm, X_pick))"
   ]
  },
  {
   "cell_type": "markdown",
   "metadata": {},
   "source": [
    "5) Проведите кросс-валидацию для логистической регрессии на новой выборке с подбором лучшего параметра регуляризации. Какое получилось качество? Улучшилось ли оно? Чем вы можете это объяснить?"
   ]
  },
  {
   "cell_type": "code",
   "execution_count": 20,
   "metadata": {},
   "outputs": [
    {
     "name": "stdout",
     "output_type": "stream",
     "text": [
      "C = 0.01\n",
      "Time elapsed = 0:00:13.067101\n",
      "roc_auc = 0.7515552270368531\n",
      "\n",
      "\n",
      "C = 0.021544346900318832\n",
      "Time elapsed = 0:00:15.493033\n",
      "roc_auc = 0.7517410623301751\n",
      "\n",
      "\n",
      "C = 0.046415888336127795\n",
      "Time elapsed = 0:00:17.800194\n",
      "roc_auc = 0.7517736284262794\n",
      "\n",
      "\n",
      "C = 0.1\n",
      "Time elapsed = 0:00:16.920848\n",
      "roc_auc = 0.7517696054860584\n",
      "\n",
      "\n",
      "C = 0.2154434690031884\n",
      "Time elapsed = 0:00:17.502873\n",
      "roc_auc = 0.7517633092549703\n",
      "\n",
      "\n",
      "C = 0.4641588833612779\n",
      "Time elapsed = 0:00:18.194913\n",
      "roc_auc = 0.7517582521713415\n",
      "\n",
      "\n",
      "C = 1.0\n",
      "Time elapsed = 0:00:18.579659\n",
      "roc_auc = 0.7517551078390803\n",
      "\n",
      "\n"
     ]
    }
   ],
   "source": [
    "for C in [10 ** (i/3) for i in range(-6, 1)]:\n",
    "    clf = linear_model.LogisticRegression(C=C, random_state=31415)\n",
    "    cv = model_selection.KFold(n_splits=5, shuffle=True, random_state=31415)\n",
    "    start_time = datetime.datetime.now()\n",
    "    result = model_selection.cross_validate(\n",
    "        clf, X_norn_pick, Y,\n",
    "        cv=cv,\n",
    "        scoring='roc_auc')\n",
    "    print('C = ' + str(C))\n",
    "    print('Time elapsed =', str(datetime.datetime.now() - start_time))\n",
    "    print('roc_auc = ' + str(np.mean(result['test_score'])))      \n",
    "    print('\\n')"
   ]
  },
  {
   "cell_type": "markdown",
   "metadata": {},
   "source": [
    "6) Постройте предсказания вероятностей победы команды Radiant для тестовой выборки с помощью лучшей из изученных моделей (лучшей с точки зрения AUC-ROC на кросс-валидации). Убедитесь, что предсказанные вероятности адекватные — находятся на отрезке [0, 1], не совпадают между собой (т.е. что модель не получилась константной)."
   ]
  },
  {
   "cell_type": "code",
   "execution_count": 21,
   "metadata": {},
   "outputs": [
    {
     "data": {
      "text/plain": [
       "LogisticRegression(C=0.046415888336127795, class_weight=None, dual=False,\n",
       "          fit_intercept=True, intercept_scaling=1, max_iter=100,\n",
       "          multi_class='ovr', n_jobs=1, penalty='l2', random_state=31415,\n",
       "          solver='liblinear', tol=0.0001, verbose=0, warm_start=False)"
      ]
     },
     "execution_count": 21,
     "metadata": {},
     "output_type": "execute_result"
    }
   ],
   "source": [
    "clf = linear_model.LogisticRegression(C=10 ** (-4 /3), random_state=31415)\n",
    "clf.fit(X_norn_pick, Y)"
   ]
  },
  {
   "cell_type": "code",
   "execution_count": 22,
   "metadata": {},
   "outputs": [],
   "source": [
    "test = pd.read_csv('features_test.zip', index_col='match_id')\n",
    "test.fillna(value=0, inplace=True)\n",
    "X_test = scaler.transform(test[[col for col in test.columns if col not in cat_col]])\n",
    "\n",
    "X_test_pick = np.zeros((test.shape[0], len(all)))\n",
    "\n",
    "for i, match_id in enumerate(test.index):\n",
    "    for p in range(5):\n",
    "        X_test_pick[i, heroes.index(test.loc[match_id, 'r%d_hero' % (p+1)])] = 1\n",
    "        X_test_pick[i, heroes.index(test.loc[match_id, 'd%d_hero' % (p+1)])] = -1\n",
    "\n",
    "X_test_full = np.hstack((X_test, X_test_pick))\n",
    "\n",
    "results = clf.predict_proba(X_test_full)"
   ]
  },
  {
   "cell_type": "code",
   "execution_count": 23,
   "metadata": {},
   "outputs": [
    {
     "data": {
      "text/plain": [
       "0.0036961271801949636"
      ]
     },
     "execution_count": 23,
     "metadata": {},
     "output_type": "execute_result"
    }
   ],
   "source": [
    "results.min()"
   ]
  },
  {
   "cell_type": "code",
   "execution_count": 24,
   "metadata": {},
   "outputs": [
    {
     "data": {
      "text/plain": [
       "0.996303872819805"
      ]
     },
     "execution_count": 24,
     "metadata": {},
     "output_type": "execute_result"
    }
   ],
   "source": [
    "results.max()"
   ]
  },
  {
   "cell_type": "markdown",
   "metadata": {},
   "source": [
    "##### Что указать в отчете\n",
    "В отчете по данному этапу вы должны ответить на следующие вопросы:\n",
    "\n",
    "1) Какое качество получилось у логистической регрессии над всеми исходными признаками? Как оно соотносится с качеством градиентного бустинга? Чем вы можете объяснить эту разницу? Быстрее ли работает логистическая регрессия по сравнению с градиентным бустингом?"
   ]
  },
  {
   "cell_type": "markdown",
   "metadata": {},
   "source": [
    "ROC_AUC = 0.71652 - качество достаточно слабо зависит от коэффциента регуляризации при изменении его на два порядка от 0.001 до 0.1. Максимум качество достигается вблизи 0.00464.\n",
    "\n",
    "Качество логистической регрессии выше, чем у градиентного бустинга при 30 деревьях.\n",
    "\n",
    "Причина отставания градиентного бустинга в его медленной обучаемости - качество продолжает достаточно устойчиво расти по мере увеличения количества деревьев. Вероятно, при достаточном количестве деревьев градиентный бустин даст лучший результат, чем логистическая регрессия. \n",
    "\n",
    "Логистическая регрессия относится к линейным методам, как следствие работает заметно быстрее градиентного бустинга (даже для всего 10 деревьев)."
   ]
  },
  {
   "cell_type": "markdown",
   "metadata": {},
   "source": [
    "2) Как влияет на качество логистической регрессии удаление категориальных признаков (укажите новое значение метрики качества)? Чем вы можете объяснить это изменение?"
   ]
  },
  {
   "cell_type": "markdown",
   "metadata": {},
   "source": [
    "Удаление категориальных признаков повысило в пятом знаке ROC_AUC = 0.71663.\n",
    "\n",
    "\n",
    "Данные признаки вряд ли возможно разделить линейной разделяющей поверхностью, поэтому они являются шумовыми для логистической регрессии. Их удаление ведет к снижению рисков переобучения и к незначительному улучшению качества. "
   ]
  },
  {
   "cell_type": "markdown",
   "metadata": {},
   "source": [
    "3) Сколько различных идентификаторов героев существует в данной игре?"
   ]
  },
  {
   "cell_type": "markdown",
   "metadata": {},
   "source": [
    "В игре существует 108 героев"
   ]
  },
  {
   "cell_type": "markdown",
   "metadata": {},
   "source": [
    "4) Какое получилось качество при добавлении \"мешка слов\" по героям? Улучшилось ли оно по сравнению с предыдущим вариантом? Чем вы можете это объяснить?"
   ]
  },
  {
   "cell_type": "markdown",
   "metadata": {},
   "source": [
    "Качество увеличилось ROC_AUC=0.75177.\n",
    "\n",
    "Можно предположить, что герои не равноценны - мешок слов позволяет оценить ценность отдельных героев и повысить качество классификации."
   ]
  },
  {
   "cell_type": "markdown",
   "metadata": {},
   "source": [
    "5) Какое минимальное и максимальное значение прогноза на тестовой выборке получилось у лучшего из алгоритмов?"
   ]
  },
  {
   "cell_type": "markdown",
   "metadata": {},
   "source": [
    "Минимальная вероятность победы 0.0037\n",
    "\n",
    "Максимальная вероятность победы 0.9963"
   ]
  }
 ],
 "metadata": {
  "kernelspec": {
   "display_name": "Python 3",
   "language": "python",
   "name": "python3"
  },
  "language_info": {
   "codemirror_mode": {
    "name": "ipython",
    "version": 3
   },
   "file_extension": ".py",
   "mimetype": "text/x-python",
   "name": "python",
   "nbconvert_exporter": "python",
   "pygments_lexer": "ipython3",
   "version": "3.6.4"
  }
 },
 "nbformat": 4,
 "nbformat_minor": 1
}
