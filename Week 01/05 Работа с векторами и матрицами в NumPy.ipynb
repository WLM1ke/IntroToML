{
 "cells": [
  {
   "cell_type": "code",
   "execution_count": 1,
   "metadata": {},
   "outputs": [],
   "source": [
    "import numpy as np\n",
    "\n"
   ]
  },
  {
   "cell_type": "markdown",
   "metadata": {},
   "source": [
    "# Создание случайной матрицы из 1000 строк и 50 столбцов"
   ]
  },
  {
   "cell_type": "code",
   "execution_count": 4,
   "metadata": {},
   "outputs": [],
   "source": [
    "X = np.random.normal(loc=1, scale=100, size=(1000, 50))"
   ]
  },
  {
   "cell_type": "code",
   "execution_count": 5,
   "metadata": {},
   "outputs": [
    {
     "name": "stdout",
     "output_type": "stream",
     "text": [
      "[[  76.66499551   98.14099974  163.52411674 ...  -99.94988285\n",
      "    99.38219324 -116.79502189]\n",
      " [-198.67575134  -30.22109832 -150.9917805  ...   92.12149786\n",
      "   105.41653295 -105.59721126]\n",
      " [-155.67688813   80.51926427  -30.18691152 ...  -88.80187722\n",
      "   -16.50668075  -55.96696397]\n",
      " ...\n",
      " [  61.16061141  -82.79357942   94.35939773 ...    0.91866237\n",
      "    48.41391073  200.06126291]\n",
      " [-103.3635268   -59.32107531 -162.76912963 ...  -57.20863083\n",
      "   -52.04964442   32.69416575]\n",
      " [  92.64925471   -0.24102235  -54.97992891 ...  -16.43569917\n",
      "   148.94905332  -40.12576454]]\n"
     ]
    }
   ],
   "source": [
    "print(X)"
   ]
  },
  {
   "cell_type": "markdown",
   "metadata": {},
   "source": [
    "# Нормирование матрицы по столбцам"
   ]
  },
  {
   "cell_type": "code",
   "execution_count": 8,
   "metadata": {},
   "outputs": [],
   "source": [
    "m = np.mean(X, axis=0)"
   ]
  },
  {
   "cell_type": "code",
   "execution_count": 9,
   "metadata": {},
   "outputs": [],
   "source": [
    "s = np.std(X, axis=0)"
   ]
  },
  {
   "cell_type": "code",
   "execution_count": 12,
   "metadata": {},
   "outputs": [],
   "source": [
    "X_norm = (X - m) / s"
   ]
  },
  {
   "cell_type": "code",
   "execution_count": 13,
   "metadata": {},
   "outputs": [
    {
     "name": "stdout",
     "output_type": "stream",
     "text": [
      "[[ 0.71992424  1.03455657  1.64677545 ... -1.0800225   0.94890651\n",
      "  -1.18561532]\n",
      " [-2.01841715 -0.305723   -1.5015654  ...  0.90257111  1.0079059\n",
      "  -1.07106339]\n",
      " [-1.59078133  0.85056104 -0.29229456 ... -0.96495089 -0.18417067\n",
      "  -0.56335339]\n",
      " ...\n",
      " [ 0.56572877 -0.85465313  0.95442854 ... -0.03884014  0.45057569\n",
      "   2.05577709]\n",
      " [-1.07051019 -0.60956741 -1.61945804 ... -0.63884    -0.53168393\n",
      "   0.34363671]\n",
      " [ 0.87889221  0.00731086 -0.54047556 ... -0.21797483  1.43353524\n",
      "  -0.40130029]]\n"
     ]
    }
   ],
   "source": [
    "print(X)"
   ]
  },
  {
   "cell_type": "markdown",
   "metadata": {},
   "source": [
    "# Выведете для матрицы номера строк, сумма которых больше 10"
   ]
  },
  {
   "cell_type": "markdown",
   "metadata": {},
   "source": [
    "## Заданная матрица"
   ]
  },
  {
   "cell_type": "code",
   "execution_count": 14,
   "metadata": {},
   "outputs": [],
   "source": [
    "Z = np.array ([[4, 5, 0],\n",
    "              [1, 9, 3],\n",
    "              [5, 1, 1],\n",
    "              [3, 3, 3],\n",
    "              [9, 9, 9],\n",
    "              [4, 7, 1]])"
   ]
  },
  {
   "cell_type": "markdown",
   "metadata": {},
   "source": [
    "## Расчет"
   ]
  },
  {
   "cell_type": "code",
   "execution_count": 16,
   "metadata": {},
   "outputs": [],
   "source": [
    "sum_rows = np.sum(Z, axis=1)"
   ]
  },
  {
   "cell_type": "code",
   "execution_count": 19,
   "metadata": {},
   "outputs": [
    {
     "name": "stdout",
     "output_type": "stream",
     "text": [
      "(array([1, 4, 5]),)\n"
     ]
    }
   ],
   "source": [
    "print(np.nonzero(sum_rows > 10))"
   ]
  },
  {
   "cell_type": "markdown",
   "metadata": {},
   "source": [
    "# Объединение матриц"
   ]
  },
  {
   "cell_type": "code",
   "execution_count": 20,
   "metadata": {},
   "outputs": [],
   "source": [
    "M1 = np.eye(3)"
   ]
  },
  {
   "cell_type": "code",
   "execution_count": 21,
   "metadata": {},
   "outputs": [],
   "source": [
    "M2 = np.eye(3)"
   ]
  },
  {
   "cell_type": "code",
   "execution_count": 22,
   "metadata": {},
   "outputs": [
    {
     "name": "stdout",
     "output_type": "stream",
     "text": [
      "[[1. 0. 0.]\n",
      " [0. 1. 0.]\n",
      " [0. 0. 1.]\n",
      " [1. 0. 0.]\n",
      " [0. 1. 0.]\n",
      " [0. 0. 1.]]\n"
     ]
    }
   ],
   "source": [
    "print(np.vstack((M1, M2)))"
   ]
  }
 ],
 "metadata": {
  "kernelspec": {
   "display_name": "Python 3",
   "language": "python",
   "name": "python3"
  },
  "language_info": {
   "codemirror_mode": {
    "name": "ipython",
    "version": 3
   },
   "file_extension": ".py",
   "mimetype": "text/x-python",
   "name": "python",
   "nbconvert_exporter": "python",
   "pygments_lexer": "ipython3",
   "version": "3.6.4"
  }
 },
 "nbformat": 4,
 "nbformat_minor": 2
}
